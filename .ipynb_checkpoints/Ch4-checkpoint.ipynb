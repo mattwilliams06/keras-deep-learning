{
 "cells": [
  {
   "cell_type": "markdown",
   "metadata": {},
   "source": [
    "# Data Preprocessing and Feature Engineering\n",
    "\n",
    "## Data Vectorization\n",
    "\n",
    "The data going into a neural network should be in the form of a tensor of float values, generally. For instance, the data that was integer vectors of text representations was converted into tensor form by encoding.\n",
    "\n",
    "## Value Normalization\n",
    "\n",
    "It is not good to feed data into a network that is very heterogeneous, where the value ranges differ greatly from feature to feature. This should be handled by adjusting each feature to zero mean, unity standard deviation. These adjustments should also be applied to the test set, but with the values computed from the training set. You should not compute the mean and standard deviation of the test set.\n",
    "\n",
    "## Regularization Techniques\n",
    "\n",
    "The simplest form of regularization is adjusting the model's capacity (number of tunable parameters) through adjustments to the size of the model. The general workflow is to start with a relatively small network, and increase in size until diminishing returns are reached. Let's attempt this with the IMDB dataset."
   ]
  },
  {
   "cell_type": "code",
   "execution_count": 1,
   "metadata": {},
   "outputs": [],
   "source": [
    "import tensorflow as tf\n",
    "from tensorflow import keras\n",
    "import numpy as np\n",
    "import matplotlib.pyplot as plt\n",
    "%config InlineBackend.figure_format = 'retina'"
   ]
  },
  {
   "cell_type": "code",
   "execution_count": 2,
   "metadata": {},
   "outputs": [],
   "source": [
    "imdb_data = np.load('imdb.npz', allow_pickle=True)"
   ]
  },
  {
   "cell_type": "code",
   "execution_count": 3,
   "metadata": {},
   "outputs": [
    {
     "name": "stdout",
     "output_type": "stream",
     "text": [
      "x_test\n",
      "x_train\n",
      "y_train\n",
      "y_test\n"
     ]
    }
   ],
   "source": [
    "for key in imdb_data.keys():\n",
    "    print(key)"
   ]
  },
  {
   "cell_type": "markdown",
   "metadata": {},
   "source": [
    "Great... this dataset is already split out into training and test data. I will want to reserve some of the training data for validation."
   ]
  },
  {
   "cell_type": "code",
   "execution_count": 4,
   "metadata": {},
   "outputs": [],
   "source": [
    "imdb_xtrain_full = imdb_data['x_train']\n",
    "imdb_ytrain_full = imdb_data['y_train']\n",
    "imdb_xtest = imdb_data['x_test']\n",
    "imdb_ytest = imdb_data['y_test']"
   ]
  },
  {
   "cell_type": "code",
   "execution_count": 5,
   "metadata": {},
   "outputs": [],
   "source": [
    "def vectorize_sequences(sequences, dimension=10000):\n",
    "    results = np.zeros((len(sequences), dimension))\n",
    "    for i, sequence in enumerate(sequences):\n",
    "        results[i, sequence] = 1 # puts a 1 in the integer location of the vector of zeros \n",
    "    return results"
   ]
  },
  {
   "cell_type": "code",
   "execution_count": 6,
   "metadata": {},
   "outputs": [],
   "source": [
    "from sklearn.model_selection import train_test_split"
   ]
  },
  {
   "cell_type": "markdown",
   "metadata": {},
   "source": [
    "Let's also filter the data to keep only the top 10,000 words."
   ]
  },
  {
   "cell_type": "code",
   "execution_count": 7,
   "metadata": {},
   "outputs": [],
   "source": [
    "def filtered_data(data):\n",
    "    data_filtered = []\n",
    "    for i in range(len(data)):\n",
    "        data_instance = np.asarray(data[i])\n",
    "        data_filt = data_instance[data_instance<10000]\n",
    "        data_filtered.append(data_filt)\n",
    "    return data_filtered"
   ]
  },
  {
   "cell_type": "code",
   "execution_count": 8,
   "metadata": {},
   "outputs": [],
   "source": [
    "imdb_xtrain_filt = filtered_data(imdb_xtrain_full)"
   ]
  },
  {
   "cell_type": "code",
   "execution_count": 9,
   "metadata": {},
   "outputs": [
    {
     "data": {
      "text/plain": [
       "9999"
      ]
     },
     "execution_count": 9,
     "metadata": {},
     "output_type": "execute_result"
    }
   ],
   "source": [
    "max([max(sequence) for sequence in imdb_xtrain_filt[:1000]])"
   ]
  },
  {
   "cell_type": "code",
   "execution_count": 10,
   "metadata": {},
   "outputs": [],
   "source": [
    "imdb_xtest = filtered_data(imdb_xtest)"
   ]
  },
  {
   "cell_type": "markdown",
   "metadata": {},
   "source": [
    "The labels are binary, and so we just need to convert them to float arrays. No need to one-hot encode because values of 0 and 1 won't bias the network."
   ]
  },
  {
   "cell_type": "code",
   "execution_count": 11,
   "metadata": {},
   "outputs": [
    {
     "data": {
      "text/plain": [
       "array([1, 1, 1, 1, 1, 1, 1, 1, 1, 1])"
      ]
     },
     "execution_count": 11,
     "metadata": {},
     "output_type": "execute_result"
    }
   ],
   "source": [
    "imdb_ytrain_full[:10]"
   ]
  },
  {
   "cell_type": "code",
   "execution_count": 12,
   "metadata": {},
   "outputs": [],
   "source": [
    "imdb_ytrain_full = np.asarray(imdb_ytrain_full).astype('float32')\n",
    "imdb_ytest = np.asarray(imdb_ytest).astype('float32')"
   ]
  },
  {
   "cell_type": "markdown",
   "metadata": {},
   "source": [
    "Let's now vectorize the training and test data."
   ]
  },
  {
   "cell_type": "code",
   "execution_count": 13,
   "metadata": {},
   "outputs": [],
   "source": [
    "imdb_xtrain_vec = vectorize_sequences(imdb_xtrain_filt)\n",
    "imdb_xtest = vectorize_sequences(imdb_xtest)"
   ]
  },
  {
   "cell_type": "code",
   "execution_count": 14,
   "metadata": {},
   "outputs": [],
   "source": [
    "imdb_xtrain, imdb_xval, imdb_ytrain, imdb_yval = train_test_split(imdb_xtrain_vec, imdb_ytrain_full, \n",
    "                                                                  stratify=imdb_ytrain_full, train_size=0.8)"
   ]
  },
  {
   "cell_type": "code",
   "execution_count": 15,
   "metadata": {},
   "outputs": [
    {
     "data": {
      "text/plain": [
       "(20000, 10000)"
      ]
     },
     "execution_count": 15,
     "metadata": {},
     "output_type": "execute_result"
    }
   ],
   "source": [
    "imdb_xtrain.shape"
   ]
  },
  {
   "cell_type": "code",
   "execution_count": 16,
   "metadata": {},
   "outputs": [
    {
     "data": {
      "text/plain": [
       "(5000, 10000)"
      ]
     },
     "execution_count": 16,
     "metadata": {},
     "output_type": "execute_result"
    }
   ],
   "source": [
    "imdb_xval.shape"
   ]
  },
  {
   "cell_type": "markdown",
   "metadata": {},
   "source": [
    "Let's start with a small network."
   ]
  },
  {
   "cell_type": "code",
   "execution_count": 17,
   "metadata": {},
   "outputs": [],
   "source": [
    "model1 = keras.models.Sequential([\n",
    "    keras.layers.Dense(4, activation='relu', input_shape=(10000,)),\n",
    "    keras.layers.Dense(4, activation='relu'),\n",
    "    keras.layers.Dense(1, activation='sigmoid')\n",
    "])"
   ]
  },
  {
   "cell_type": "code",
   "execution_count": 18,
   "metadata": {},
   "outputs": [],
   "source": [
    "model1.compile(optimizer='rmsprop',\n",
    "              loss = 'binary_crossentropy',\n",
    "              metrics=['accuracy'])"
   ]
  },
  {
   "cell_type": "code",
   "execution_count": 19,
   "metadata": {},
   "outputs": [
    {
     "name": "stdout",
     "output_type": "stream",
     "text": [
      "Model: \"sequential\"\n",
      "_________________________________________________________________\n",
      "Layer (type)                 Output Shape              Param #   \n",
      "=================================================================\n",
      "dense (Dense)                (None, 4)                 40004     \n",
      "_________________________________________________________________\n",
      "dense_1 (Dense)              (None, 4)                 20        \n",
      "_________________________________________________________________\n",
      "dense_2 (Dense)              (None, 1)                 5         \n",
      "=================================================================\n",
      "Total params: 40,029\n",
      "Trainable params: 40,029\n",
      "Non-trainable params: 0\n",
      "_________________________________________________________________\n"
     ]
    }
   ],
   "source": [
    "model1.summary()"
   ]
  },
  {
   "cell_type": "code",
   "execution_count": 20,
   "metadata": {},
   "outputs": [
    {
     "name": "stdout",
     "output_type": "stream",
     "text": [
      "Train on 20000 samples, validate on 5000 samples\n",
      "Epoch 1/20\n",
      "20000/20000 [==============================] - 2s 112us/sample - loss: 0.6026 - accuracy: 0.6671 - val_loss: 0.5401 - val_accuracy: 0.8188\n",
      "Epoch 2/20\n",
      "20000/20000 [==============================] - 1s 40us/sample - loss: 0.4924 - accuracy: 0.8332 - val_loss: 0.4946 - val_accuracy: 0.7886\n",
      "Epoch 3/20\n",
      "20000/20000 [==============================] - 1s 40us/sample - loss: 0.4390 - accuracy: 0.8868 - val_loss: 0.4580 - val_accuracy: 0.8854\n",
      "Epoch 4/20\n",
      "20000/20000 [==============================] - 1s 40us/sample - loss: 0.4004 - accuracy: 0.9168 - val_loss: 0.4484 - val_accuracy: 0.8510\n",
      "Epoch 5/20\n",
      "20000/20000 [==============================] - 1s 43us/sample - loss: 0.3696 - accuracy: 0.9340 - val_loss: 0.4589 - val_accuracy: 0.8428\n",
      "Epoch 6/20\n",
      "20000/20000 [==============================] - 1s 41us/sample - loss: 0.3425 - accuracy: 0.9440 - val_loss: 0.4136 - val_accuracy: 0.8808\n",
      "Epoch 7/20\n",
      "20000/20000 [==============================] - 1s 40us/sample - loss: 0.3162 - accuracy: 0.9541 - val_loss: 0.4694 - val_accuracy: 0.8430\n",
      "Epoch 8/20\n",
      "20000/20000 [==============================] - 1s 40us/sample - loss: 0.2940 - accuracy: 0.9595 - val_loss: 0.3961 - val_accuracy: 0.8852\n",
      "Epoch 9/20\n",
      "20000/20000 [==============================] - 1s 39us/sample - loss: 0.2710 - accuracy: 0.9663 - val_loss: 0.4268 - val_accuracy: 0.8696\n",
      "Epoch 10/20\n",
      "20000/20000 [==============================] - 1s 40us/sample - loss: 0.2492 - accuracy: 0.9702 - val_loss: 0.4020 - val_accuracy: 0.8784\n",
      "Epoch 11/20\n",
      "20000/20000 [==============================] - 1s 40us/sample - loss: 0.2278 - accuracy: 0.9742 - val_loss: 0.3887 - val_accuracy: 0.8840\n",
      "Epoch 12/20\n",
      "20000/20000 [==============================] - 1s 39us/sample - loss: 0.2063 - accuracy: 0.9775 - val_loss: 0.4127 - val_accuracy: 0.8754\n",
      "Epoch 13/20\n",
      "20000/20000 [==============================] - 1s 43us/sample - loss: 0.1836 - accuracy: 0.9796 - val_loss: 0.3885 - val_accuracy: 0.8808\n",
      "Epoch 14/20\n",
      "20000/20000 [==============================] - 1s 40us/sample - loss: 0.1618 - accuracy: 0.9812 - val_loss: 0.3692 - val_accuracy: 0.8794\n",
      "Epoch 15/20\n",
      "20000/20000 [==============================] - 1s 40us/sample - loss: 0.1396 - accuracy: 0.9822 - val_loss: 0.3887 - val_accuracy: 0.8790\n",
      "Epoch 16/20\n",
      "20000/20000 [==============================] - 1s 40us/sample - loss: 0.1189 - accuracy: 0.9841 - val_loss: 0.4227 - val_accuracy: 0.8766\n",
      "Epoch 17/20\n",
      "20000/20000 [==============================] - 1s 39us/sample - loss: 0.1002 - accuracy: 0.9847 - val_loss: 0.3738 - val_accuracy: 0.8724\n",
      "Epoch 18/20\n",
      "20000/20000 [==============================] - 1s 42us/sample - loss: 0.0841 - accuracy: 0.9857 - val_loss: 0.4032 - val_accuracy: 0.8798\n",
      "Epoch 19/20\n",
      "20000/20000 [==============================] - 1s 41us/sample - loss: 0.0701 - accuracy: 0.9862 - val_loss: 0.4147 - val_accuracy: 0.8778\n",
      "Epoch 20/20\n",
      "20000/20000 [==============================] - 1s 40us/sample - loss: 0.0591 - accuracy: 0.9876 - val_loss: 0.4694 - val_accuracy: 0.8774\n"
     ]
    }
   ],
   "source": [
    "history1 = model1.fit(imdb_xtrain,\n",
    "                     imdb_ytrain,\n",
    "                     epochs = 20,\n",
    "                     batch_size = 512,\n",
    "                     validation_data=(imdb_xval, imdb_yval))"
   ]
  },
  {
   "cell_type": "code",
   "execution_count": 21,
   "metadata": {},
   "outputs": [
    {
     "data": {
      "text/plain": [
       "dict_keys(['loss', 'accuracy', 'val_loss', 'val_accuracy'])"
      ]
     },
     "execution_count": 21,
     "metadata": {},
     "output_type": "execute_result"
    }
   ],
   "source": [
    "history1.history.keys()"
   ]
  },
  {
   "cell_type": "code",
   "execution_count": 22,
   "metadata": {},
   "outputs": [],
   "source": [
    "model1_val_loss = history1.history['val_loss']"
   ]
  },
  {
   "cell_type": "markdown",
   "metadata": {},
   "source": [
    "Now, let's use the original network."
   ]
  },
  {
   "cell_type": "code",
   "execution_count": 23,
   "metadata": {},
   "outputs": [],
   "source": [
    "model2 = keras.models.Sequential([\n",
    "    keras.layers.Dense(16, activation='relu', input_shape=(10000,)),\n",
    "    keras.layers.Dense(16, activation='relu'),\n",
    "    keras.layers.Dense(1, activation='sigmoid'),\n",
    "])"
   ]
  },
  {
   "cell_type": "code",
   "execution_count": 24,
   "metadata": {},
   "outputs": [],
   "source": [
    "model2.compile(optimizer='rmsprop',\n",
    "              loss = 'binary_crossentropy',\n",
    "              metrics=['accuracy'])"
   ]
  },
  {
   "cell_type": "code",
   "execution_count": 25,
   "metadata": {},
   "outputs": [
    {
     "name": "stdout",
     "output_type": "stream",
     "text": [
      "Model: \"sequential_1\"\n",
      "_________________________________________________________________\n",
      "Layer (type)                 Output Shape              Param #   \n",
      "=================================================================\n",
      "dense_3 (Dense)              (None, 16)                160016    \n",
      "_________________________________________________________________\n",
      "dense_4 (Dense)              (None, 16)                272       \n",
      "_________________________________________________________________\n",
      "dense_5 (Dense)              (None, 1)                 17        \n",
      "=================================================================\n",
      "Total params: 160,305\n",
      "Trainable params: 160,305\n",
      "Non-trainable params: 0\n",
      "_________________________________________________________________\n"
     ]
    }
   ],
   "source": [
    "model2.summary()"
   ]
  },
  {
   "cell_type": "markdown",
   "metadata": {},
   "source": [
    "Model 2 has 4 times the parameters, as expected."
   ]
  },
  {
   "cell_type": "code",
   "execution_count": 26,
   "metadata": {},
   "outputs": [
    {
     "name": "stdout",
     "output_type": "stream",
     "text": [
      "Train on 20000 samples, validate on 5000 samples\n",
      "Epoch 1/20\n",
      "20000/20000 [==============================] - 2s 98us/sample - loss: 0.4902 - accuracy: 0.8084 - val_loss: 0.3660 - val_accuracy: 0.8744\n",
      "Epoch 2/20\n",
      "20000/20000 [==============================] - 1s 42us/sample - loss: 0.2881 - accuracy: 0.9048 - val_loss: 0.2849 - val_accuracy: 0.8924\n",
      "Epoch 3/20\n",
      "20000/20000 [==============================] - 1s 43us/sample - loss: 0.2154 - accuracy: 0.9256 - val_loss: 0.2868 - val_accuracy: 0.8854\n",
      "Epoch 4/20\n",
      "20000/20000 [==============================] - 1s 42us/sample - loss: 0.1743 - accuracy: 0.9405 - val_loss: 0.2652 - val_accuracy: 0.8944\n",
      "Epoch 5/20\n",
      "20000/20000 [==============================] - 1s 43us/sample - loss: 0.1477 - accuracy: 0.9494 - val_loss: 0.2801 - val_accuracy: 0.8906\n",
      "Epoch 6/20\n",
      "20000/20000 [==============================] - 1s 42us/sample - loss: 0.1272 - accuracy: 0.9574 - val_loss: 0.3326 - val_accuracy: 0.8748\n",
      "Epoch 7/20\n",
      "20000/20000 [==============================] - 1s 42us/sample - loss: 0.1083 - accuracy: 0.9647 - val_loss: 0.3294 - val_accuracy: 0.8822\n",
      "Epoch 8/20\n",
      "20000/20000 [==============================] - 1s 42us/sample - loss: 0.0956 - accuracy: 0.9699 - val_loss: 0.3555 - val_accuracy: 0.8776\n",
      "Epoch 9/20\n",
      "20000/20000 [==============================] - 1s 42us/sample - loss: 0.0818 - accuracy: 0.9750 - val_loss: 0.3581 - val_accuracy: 0.8802\n",
      "Epoch 10/20\n",
      "20000/20000 [==============================] - 1s 42us/sample - loss: 0.0720 - accuracy: 0.9785 - val_loss: 0.3796 - val_accuracy: 0.8776\n",
      "Epoch 11/20\n",
      "20000/20000 [==============================] - 1s 42us/sample - loss: 0.0589 - accuracy: 0.9834 - val_loss: 0.4105 - val_accuracy: 0.8754\n",
      "Epoch 12/20\n",
      "20000/20000 [==============================] - 1s 42us/sample - loss: 0.0514 - accuracy: 0.9855 - val_loss: 0.4403 - val_accuracy: 0.8722\n",
      "Epoch 13/20\n",
      "20000/20000 [==============================] - 1s 43us/sample - loss: 0.0430 - accuracy: 0.9881 - val_loss: 0.4736 - val_accuracy: 0.8732\n",
      "Epoch 14/20\n",
      "20000/20000 [==============================] - 1s 42us/sample - loss: 0.0365 - accuracy: 0.9905 - val_loss: 0.5135 - val_accuracy: 0.8728\n",
      "Epoch 15/20\n",
      "20000/20000 [==============================] - 1s 43us/sample - loss: 0.0296 - accuracy: 0.9930 - val_loss: 0.6039 - val_accuracy: 0.8592\n",
      "Epoch 16/20\n",
      "20000/20000 [==============================] - 1s 42us/sample - loss: 0.0268 - accuracy: 0.9931 - val_loss: 0.5633 - val_accuracy: 0.8682\n",
      "Epoch 17/20\n",
      "20000/20000 [==============================] - 1s 43us/sample - loss: 0.0211 - accuracy: 0.9952 - val_loss: 0.6256 - val_accuracy: 0.8672\n",
      "Epoch 18/20\n",
      "20000/20000 [==============================] - 1s 42us/sample - loss: 0.0180 - accuracy: 0.9961 - val_loss: 0.6380 - val_accuracy: 0.8660\n",
      "Epoch 19/20\n",
      "20000/20000 [==============================] - 1s 42us/sample - loss: 0.0149 - accuracy: 0.9964 - val_loss: 0.6770 - val_accuracy: 0.8664\n",
      "Epoch 20/20\n",
      "20000/20000 [==============================] - 1s 43us/sample - loss: 0.0107 - accuracy: 0.9984 - val_loss: 0.7144 - val_accuracy: 0.8652\n"
     ]
    }
   ],
   "source": [
    "history2 = model2.fit(imdb_xtrain,\n",
    "                     imdb_ytrain,\n",
    "                     epochs=20,\n",
    "                     batch_size=512,\n",
    "                     validation_data=(imdb_xval, imdb_yval))"
   ]
  },
  {
   "cell_type": "code",
   "execution_count": 27,
   "metadata": {},
   "outputs": [],
   "source": [
    "model2_val_loss = history2.history['val_loss']"
   ]
  },
  {
   "cell_type": "code",
   "execution_count": 28,
   "metadata": {},
   "outputs": [
    {
     "data": {
      "image/png": "[encoded data removed]",
      "text/plain": [
       "<Figure size 432x288 with 1 Axes>"
      ]
     },
     "metadata": {
      "image/png": {
       "height": 261,
       "width": 385
      },
      "needs_background": "light"
     },
     "output_type": "display_data"
    }
   ],
   "source": [
    "plt.plot(range(1, len(model1_val_loss) + 1), model1_val_loss, 'b+', label='Small network validation loss')\n",
    "plt.plot(range(1, len(model2_val_loss) + 1), model2_val_loss, 'bo', label='Original network validation loss')\n",
    "plt.xlabel('Epoch')\n",
    "plt.ylabel('Validation loss')\n",
    "plt.legend()\n",
    "plt.show()"
   ]
  },
  {
   "cell_type": "markdown",
   "metadata": {},
   "source": [
    "The smaller network begins overfitting later in training than the original network. To benchmark, let's create a much larger network than necessary."
   ]
  },
  {
   "cell_type": "code",
   "execution_count": 29,
   "metadata": {},
   "outputs": [],
   "source": [
    "model3 = keras.models.Sequential([\n",
    "    keras.layers.Dense(512, activation='relu', input_shape=(10000,)),\n",
    "    keras.layers.Dense(512, activation='relu'),\n",
    "    keras.layers.Dense(1, activation='sigmoid'),\n",
    "])"
   ]
  },
  {
   "cell_type": "code",
   "execution_count": 30,
   "metadata": {},
   "outputs": [],
   "source": [
    "model3.compile(optimizer='rmsprop',\n",
    "              loss = 'binary_crossentropy',\n",
    "              metrics=['accuracy'])"
   ]
  },
  {
   "cell_type": "code",
   "execution_count": 31,
   "metadata": {},
   "outputs": [
    {
     "name": "stdout",
     "output_type": "stream",
     "text": [
      "Model: \"sequential_2\"\n",
      "_________________________________________________________________\n",
      "Layer (type)                 Output Shape              Param #   \n",
      "=================================================================\n",
      "dense_6 (Dense)              (None, 512)               5120512   \n",
      "_________________________________________________________________\n",
      "dense_7 (Dense)              (None, 512)               262656    \n",
      "_________________________________________________________________\n",
      "dense_8 (Dense)              (None, 1)                 513       \n",
      "=================================================================\n",
      "Total params: 5,383,681\n",
      "Trainable params: 5,383,681\n",
      "Non-trainable params: 0\n",
      "_________________________________________________________________\n"
     ]
    }
   ],
   "source": [
    "model3.summary()"
   ]
  },
  {
   "cell_type": "code",
   "execution_count": 32,
   "metadata": {},
   "outputs": [
    {
     "name": "stdout",
     "output_type": "stream",
     "text": [
      "Train on 20000 samples, validate on 5000 samples\n",
      "Epoch 1/20\n",
      "20000/20000 [==============================] - 5s 253us/sample - loss: 0.4977 - accuracy: 0.7682 - val_loss: 0.4117 - val_accuracy: 0.8154\n",
      "Epoch 2/20\n",
      "20000/20000 [==============================] - 4s 207us/sample - loss: 0.2365 - accuracy: 0.9073 - val_loss: 0.2592 - val_accuracy: 0.8958\n",
      "Epoch 3/20\n",
      "20000/20000 [==============================] - 4s 205us/sample - loss: 0.1345 - accuracy: 0.9488 - val_loss: 0.3071 - val_accuracy: 0.8896\n",
      "Epoch 4/20\n",
      "20000/20000 [==============================] - 4s 207us/sample - loss: 0.0903 - accuracy: 0.9754 - val_loss: 0.3664 - val_accuracy: 0.8976\n",
      "Epoch 5/20\n",
      "20000/20000 [==============================] - 4s 207us/sample - loss: 0.0840 - accuracy: 0.9818 - val_loss: 0.3484 - val_accuracy: 0.8922\n",
      "Epoch 6/20\n",
      "20000/20000 [==============================] - 4s 192us/sample - loss: 0.0035 - accuracy: 0.9997 - val_loss: 0.5477 - val_accuracy: 0.8926\n",
      "Epoch 7/20\n",
      "20000/20000 [==============================] - 4s 197us/sample - loss: 6.4712e-04 - accuracy: 0.9999 - val_loss: 0.6778 - val_accuracy: 0.8938\n",
      "Epoch 8/20\n",
      "20000/20000 [==============================] - 4s 197us/sample - loss: 0.1759 - accuracy: 0.9848 - val_loss: 0.6102 - val_accuracy: 0.8742\n",
      "Epoch 9/20\n",
      "20000/20000 [==============================] - 4s 195us/sample - loss: 3.6503e-04 - accuracy: 1.0000 - val_loss: 0.6173 - val_accuracy: 0.8906\n",
      "Epoch 10/20\n",
      "20000/20000 [==============================] - 4s 195us/sample - loss: 7.3216e-05 - accuracy: 1.0000 - val_loss: 0.7136 - val_accuracy: 0.8900\n",
      "Epoch 11/20\n",
      "20000/20000 [==============================] - 4s 202us/sample - loss: 2.0415e-05 - accuracy: 1.0000 - val_loss: 0.8190 - val_accuracy: 0.8908\n",
      "Epoch 12/20\n",
      "20000/20000 [==============================] - 4s 193us/sample - loss: 4.3388e-06 - accuracy: 1.0000 - val_loss: 0.9487 - val_accuracy: 0.8894\n",
      "Epoch 13/20\n",
      "20000/20000 [==============================] - 4s 193us/sample - loss: 8.4652e-07 - accuracy: 1.0000 - val_loss: 1.0631 - val_accuracy: 0.8908\n",
      "Epoch 14/20\n",
      "20000/20000 [==============================] - 4s 194us/sample - loss: 2.1066e-07 - accuracy: 1.0000 - val_loss: 1.1643 - val_accuracy: 0.8896\n",
      "Epoch 15/20\n",
      "20000/20000 [==============================] - 4s 193us/sample - loss: 6.1210e-08 - accuracy: 1.0000 - val_loss: 1.2258 - val_accuracy: 0.8898\n",
      "Epoch 16/20\n",
      "20000/20000 [==============================] - 4s 192us/sample - loss: 2.7354e-08 - accuracy: 1.0000 - val_loss: 1.2683 - val_accuracy: 0.8900\n",
      "Epoch 17/20\n",
      "20000/20000 [==============================] - 4s 192us/sample - loss: 1.7094e-08 - accuracy: 1.0000 - val_loss: 1.2956 - val_accuracy: 0.8910\n",
      "Epoch 18/20\n",
      "20000/20000 [==============================] - 4s 192us/sample - loss: 1.2374e-08 - accuracy: 1.0000 - val_loss: 1.3128 - val_accuracy: 0.8898\n",
      "Epoch 19/20\n",
      "20000/20000 [==============================] - 4s 193us/sample - loss: 9.6912e-09 - accuracy: 1.0000 - val_loss: 1.3247 - val_accuracy: 0.8896\n",
      "Epoch 20/20\n",
      "20000/20000 [==============================] - 4s 193us/sample - loss: 8.0482e-09 - accuracy: 1.0000 - val_loss: 1.3365 - val_accuracy: 0.8914\n"
     ]
    }
   ],
   "source": [
    "history3 = model3.fit(imdb_xtrain,\n",
    "                     imdb_ytrain,\n",
    "                     epochs=20,\n",
    "                     batch_size=512,\n",
    "                     validation_data=(imdb_xval, imdb_yval))"
   ]
  },
  {
   "cell_type": "code",
   "execution_count": 33,
   "metadata": {},
   "outputs": [],
   "source": [
    "model3_val_loss = history3.history['val_loss']"
   ]
  },
  {
   "cell_type": "code",
   "execution_count": 34,
   "metadata": {},
   "outputs": [
    {
     "data": {
      "image/png": "[encoded data removed]",
      "text/plain": [
       "<Figure size 432x288 with 1 Axes>"
      ]
     },
     "metadata": {
      "image/png": {
       "height": 261,
       "width": 385
      },
      "needs_background": "light"
     },
     "output_type": "display_data"
    }
   ],
   "source": [
    "plt.plot(range(1, len(model3_val_loss) + 1), model3_val_loss, 'b+', label='SBigger network validation loss')\n",
    "plt.plot(range(1, len(model2_val_loss) + 1), model2_val_loss, 'bo', label='Original network validation loss')\n",
    "plt.xlabel('Epoch')\n",
    "plt.ylabel('Validation loss')\n",
    "plt.legend()\n",
    "plt.show()"
   ]
  },
  {
   "cell_type": "markdown",
   "metadata": {},
   "source": [
    "The larger network begins overfitting basically after epoch 2. Meanwhile, for the training losses:"
   ]
  },
  {
   "cell_type": "code",
   "execution_count": 35,
   "metadata": {},
   "outputs": [],
   "source": [
    "model3_train_loss = history3.history['loss']\n",
    "model2_train_loss = history2.history['loss']"
   ]
  },
  {
   "cell_type": "code",
   "execution_count": 36,
   "metadata": {},
   "outputs": [
    {
     "data": {
      "image/png": "[encoded data removed]",
      "text/plain": [
       "<Figure size 432x288 with 1 Axes>"
      ]
     },
     "metadata": {
      "image/png": {
       "height": 261,
       "width": 385
      },
      "needs_background": "light"
     },
     "output_type": "display_data"
    }
   ],
   "source": [
    "plt.plot(range(1, len(model3_train_loss) + 1), model3_train_loss, 'b+', label='Bigger network training loss')\n",
    "plt.plot(range(1, len(model2_train_loss) + 1), model2_train_loss, 'bo', label='Original network training loss')\n",
    "plt.xlabel('Epoch')\n",
    "plt.ylabel('Training loss')\n",
    "plt.legend()\n",
    "plt.show()"
   ]
  },
  {
   "cell_type": "markdown",
   "metadata": {},
   "source": [
    "The larger network drives its training loss to zero very quickly.\n",
    "\n",
    "## Weight Regularization\n",
    "\n",
    "This technique forces weights into taking on smaller values, thereby decreasing network entropy, by adding into the loss function a cost for having large weights. L1 regularization adds a cost proportional to the absolute value of the weight coefficients, and L2 adds a cost proportional to the square of the value of the weight coefficients. Let's add regularization to the network, noting that this will increase the loss. Since regularization only occurs during training, the training loss will be much higher than the test loss."
   ]
  },
  {
   "cell_type": "code",
   "execution_count": 40,
   "metadata": {},
   "outputs": [],
   "source": [
    "from tensorflow.keras import regularizers\n",
    "model2_l2reg = keras.models.Sequential([\n",
    "    keras.layers.Dense(16, kernel_regularizer=regularizers.l2(0.001),\n",
    "                      activation='relu', input_shape=(10000,)),\n",
    "    keras.layers.Dense(16, kernel_regularizer=regularizers.l2(0.001),\n",
    "                      activation='relu'),\n",
    "    keras.layers.Dense(1, activation='sigmoid')\n",
    "])"
   ]
  },
  {
   "cell_type": "code",
   "execution_count": 41,
   "metadata": {},
   "outputs": [],
   "source": [
    "model2_l2reg.compile(optimizer='rmsprop',\n",
    "              loss = 'binary_crossentropy',\n",
    "              metrics=['accuracy'])"
   ]
  },
  {
   "cell_type": "code",
   "execution_count": 42,
   "metadata": {},
   "outputs": [
    {
     "name": "stdout",
     "output_type": "stream",
     "text": [
      "Train on 20000 samples, validate on 5000 samples\n",
      "Epoch 1/20\n",
      "20000/20000 [==============================] - 2s 100us/sample - loss: 0.5540 - accuracy: 0.7953 - val_loss: 0.4440 - val_accuracy: 0.8448\n",
      "Epoch 2/20\n",
      "20000/20000 [==============================] - 1s 45us/sample - loss: 0.3612 - accuracy: 0.8957 - val_loss: 0.3567 - val_accuracy: 0.8860\n",
      "Epoch 3/20\n",
      "20000/20000 [==============================] - 1s 44us/sample - loss: 0.2952 - accuracy: 0.9169 - val_loss: 0.3401 - val_accuracy: 0.8868\n",
      "Epoch 4/20\n",
      "20000/20000 [==============================] - 1s 45us/sample - loss: 0.2666 - accuracy: 0.9254 - val_loss: 0.3850 - val_accuracy: 0.8672\n",
      "Epoch 5/20\n",
      "20000/20000 [==============================] - 1s 45us/sample - loss: 0.2457 - accuracy: 0.9337 - val_loss: 0.3265 - val_accuracy: 0.8908\n",
      "Epoch 6/20\n",
      "20000/20000 [==============================] - 1s 45us/sample - loss: 0.2338 - accuracy: 0.9362 - val_loss: 0.3648 - val_accuracy: 0.8766\n",
      "Epoch 7/20\n",
      "20000/20000 [==============================] - 1s 44us/sample - loss: 0.2244 - accuracy: 0.9412 - val_loss: 0.3442 - val_accuracy: 0.8856\n",
      "Epoch 8/20\n",
      "20000/20000 [==============================] - 1s 45us/sample - loss: 0.2167 - accuracy: 0.9451 - val_loss: 0.3544 - val_accuracy: 0.8836\n",
      "Epoch 9/20\n",
      "20000/20000 [==============================] - 1s 45us/sample - loss: 0.2092 - accuracy: 0.9489 - val_loss: 0.4528 - val_accuracy: 0.8526\n",
      "Epoch 10/20\n",
      "20000/20000 [==============================] - 1s 45us/sample - loss: 0.2062 - accuracy: 0.9481 - val_loss: 0.3812 - val_accuracy: 0.8740\n",
      "Epoch 11/20\n",
      "20000/20000 [==============================] - 1s 45us/sample - loss: 0.1984 - accuracy: 0.9529 - val_loss: 0.3612 - val_accuracy: 0.8844\n",
      "Epoch 12/20\n",
      "20000/20000 [==============================] - 1s 45us/sample - loss: 0.1924 - accuracy: 0.9549 - val_loss: 0.3784 - val_accuracy: 0.8784\n",
      "Epoch 13/20\n",
      "20000/20000 [==============================] - 1s 46us/sample - loss: 0.1922 - accuracy: 0.9542 - val_loss: 0.3736 - val_accuracy: 0.8830\n",
      "Epoch 14/20\n",
      "20000/20000 [==============================] - 1s 44us/sample - loss: 0.1847 - accuracy: 0.9576 - val_loss: 0.3904 - val_accuracy: 0.8760\n",
      "Epoch 15/20\n",
      "20000/20000 [==============================] - 1s 44us/sample - loss: 0.1840 - accuracy: 0.9574 - val_loss: 0.4074 - val_accuracy: 0.8736\n",
      "Epoch 16/20\n",
      "20000/20000 [==============================] - 1s 47us/sample - loss: 0.1743 - accuracy: 0.9621 - val_loss: 0.3988 - val_accuracy: 0.8802\n",
      "Epoch 17/20\n",
      "20000/20000 [==============================] - 1s 46us/sample - loss: 0.1761 - accuracy: 0.9611 - val_loss: 0.4303 - val_accuracy: 0.8692\n",
      "Epoch 18/20\n",
      "20000/20000 [==============================] - 1s 46us/sample - loss: 0.1696 - accuracy: 0.9642 - val_loss: 0.4102 - val_accuracy: 0.8814\n",
      "Epoch 19/20\n",
      "20000/20000 [==============================] - 1s 45us/sample - loss: 0.1731 - accuracy: 0.9621 - val_loss: 0.4139 - val_accuracy: 0.8770\n",
      "Epoch 20/20\n",
      "20000/20000 [==============================] - 1s 45us/sample - loss: 0.1715 - accuracy: 0.9621 - val_loss: 0.4120 - val_accuracy: 0.8792\n"
     ]
    }
   ],
   "source": [
    "history2_l2reg = model2_l2reg.fit(imdb_xtrain,\n",
    "                     imdb_ytrain,\n",
    "                     epochs=20,\n",
    "                     batch_size=512,\n",
    "                     validation_data=(imdb_xval, imdb_yval))"
   ]
  },
  {
   "cell_type": "code",
   "execution_count": 43,
   "metadata": {},
   "outputs": [],
   "source": [
    "model2_l2reg_val_loss = history2_l2reg.history['val_loss']"
   ]
  },
  {
   "cell_type": "code",
   "execution_count": 44,
   "metadata": {},
   "outputs": [
    {
     "data": {
      "image/png": "[encoded data removed]",
      "text/plain": [
       "<Figure size 432x288 with 1 Axes>"
      ]
     },
     "metadata": {
      "image/png": {
       "height": 261,
       "width": 385
      },
      "needs_background": "light"
     },
     "output_type": "display_data"
    }
   ],
   "source": [
    "plt.plot(range(1, len(model2_val_loss) + 1), model2_val_loss, 'b+', label='Original network training loss')\n",
    "plt.plot(range(1, len(model2_l2reg_val_loss) + 1), model2_l2reg_val_loss, 'bo', label='L2 reg network training loss')\n",
    "plt.xlabel('Epoch')\n",
    "plt.ylabel('Validation loss')\n",
    "plt.legend()\n",
    "plt.show()"
   ]
  },
  {
   "cell_type": "markdown",
   "metadata": {},
   "source": [
    "The model with regularization is much more resistant to overfitting than the model without.\n",
    "\n",
    "## Dropout\n",
    "\n",
    "Dropout zeroes-out the weights of randomly selected nodes at training time. The fraction of nodes that are dropped out during training is usually somewhere between 0.2 and 0.5. At testing time, the output must be scaled down by 1 - the dropout factor to account for the fact that there will be no dropped-out nodes.\n",
    "\n",
    "Let's try the original network with dropout."
   ]
  },
  {
   "cell_type": "code",
   "execution_count": 45,
   "metadata": {},
   "outputs": [],
   "source": [
    "model2_dropout = keras.models.Sequential([\n",
    "    keras.layers.Dense(16, activation='relu', input_shape=(10000,)),\n",
    "    keras.layers.Dropout(0.5),\n",
    "    keras.layers.Dense(16, activation='relu'),\n",
    "    keras.layers.Dropout(0.5),\n",
    "    keras.layers.Dense(1, activation='sigmoid')\n",
    "])"
   ]
  },
  {
   "cell_type": "code",
   "execution_count": 46,
   "metadata": {},
   "outputs": [],
   "source": [
    "model2_dropout.compile(optimizer='rmsprop',\n",
    "                      loss='binary_crossentropy',\n",
    "                      metrics=['accuracy'])"
   ]
  },
  {
   "cell_type": "code",
   "execution_count": 47,
   "metadata": {},
   "outputs": [
    {
     "name": "stdout",
     "output_type": "stream",
     "text": [
      "Train on 20000 samples, validate on 5000 samples\n",
      "Epoch 1/20\n",
      "20000/20000 [==============================] - 2s 113us/sample - loss: 0.6135 - accuracy: 0.6564 - val_loss: 0.4646 - val_accuracy: 0.8636\n",
      "Epoch 2/20\n",
      "20000/20000 [==============================] - 1s 47us/sample - loss: 0.4787 - accuracy: 0.7750 - val_loss: 0.3743 - val_accuracy: 0.8824\n",
      "Epoch 3/20\n",
      "20000/20000 [==============================] - 1s 48us/sample - loss: 0.3995 - accuracy: 0.8289 - val_loss: 0.3087 - val_accuracy: 0.8896\n",
      "Epoch 4/20\n",
      "20000/20000 [==============================] - 1s 47us/sample - loss: 0.3445 - accuracy: 0.8611 - val_loss: 0.2762 - val_accuracy: 0.8936\n",
      "Epoch 5/20\n",
      "20000/20000 [==============================] - 1s 48us/sample - loss: 0.3056 - accuracy: 0.8854 - val_loss: 0.2801 - val_accuracy: 0.8884\n",
      "Epoch 6/20\n",
      "20000/20000 [==============================] - 1s 47us/sample - loss: 0.2650 - accuracy: 0.9047 - val_loss: 0.2703 - val_accuracy: 0.8938\n",
      "Epoch 7/20\n",
      "20000/20000 [==============================] - 1s 48us/sample - loss: 0.2441 - accuracy: 0.9161 - val_loss: 0.2775 - val_accuracy: 0.8920\n",
      "Epoch 8/20\n",
      "20000/20000 [==============================] - 1s 50us/sample - loss: 0.2164 - accuracy: 0.9287 - val_loss: 0.2801 - val_accuracy: 0.8916\n",
      "Epoch 9/20\n",
      "20000/20000 [==============================] - 1s 49us/sample - loss: 0.1994 - accuracy: 0.9354 - val_loss: 0.2918 - val_accuracy: 0.8924\n",
      "Epoch 10/20\n",
      "20000/20000 [==============================] - 1s 49us/sample - loss: 0.1833 - accuracy: 0.9404 - val_loss: 0.3303 - val_accuracy: 0.8906\n",
      "Epoch 11/20\n",
      "20000/20000 [==============================] - 1s 48us/sample - loss: 0.1715 - accuracy: 0.9445 - val_loss: 0.3405 - val_accuracy: 0.8874\n",
      "Epoch 12/20\n",
      "20000/20000 [==============================] - 1s 47us/sample - loss: 0.1580 - accuracy: 0.9492 - val_loss: 0.3421 - val_accuracy: 0.8920\n",
      "Epoch 13/20\n",
      "20000/20000 [==============================] - 1s 46us/sample - loss: 0.1451 - accuracy: 0.9503 - val_loss: 0.3723 - val_accuracy: 0.8884\n",
      "Epoch 14/20\n",
      "20000/20000 [==============================] - 1s 47us/sample - loss: 0.1372 - accuracy: 0.9571 - val_loss: 0.4123 - val_accuracy: 0.8900\n",
      "Epoch 15/20\n",
      "20000/20000 [==============================] - 1s 48us/sample - loss: 0.1314 - accuracy: 0.9564 - val_loss: 0.4137 - val_accuracy: 0.8882\n",
      "Epoch 16/20\n",
      "20000/20000 [==============================] - 1s 47us/sample - loss: 0.1252 - accuracy: 0.9588 - val_loss: 0.4653 - val_accuracy: 0.8882\n",
      "Epoch 17/20\n",
      "20000/20000 [==============================] - 1s 49us/sample - loss: 0.1247 - accuracy: 0.9590 - val_loss: 0.4742 - val_accuracy: 0.8878\n",
      "Epoch 18/20\n",
      "20000/20000 [==============================] - 1s 47us/sample - loss: 0.1204 - accuracy: 0.9591 - val_loss: 0.4891 - val_accuracy: 0.8864\n",
      "Epoch 19/20\n",
      "20000/20000 [==============================] - 1s 48us/sample - loss: 0.1151 - accuracy: 0.9605 - val_loss: 0.4863 - val_accuracy: 0.8850\n",
      "Epoch 20/20\n",
      "20000/20000 [==============================] - 1s 47us/sample - loss: 0.1119 - accuracy: 0.9615 - val_loss: 0.5188 - val_accuracy: 0.8846\n"
     ]
    }
   ],
   "source": [
    "history2_dropout = model2_dropout.fit(imdb_xtrain, imdb_ytrain,\n",
    "                                     epochs=20, batch_size=512,\n",
    "                                     validation_data=(imdb_xval, imdb_yval))"
   ]
  },
  {
   "cell_type": "code",
   "execution_count": 48,
   "metadata": {},
   "outputs": [],
   "source": [
    "model2_dropout_val_loss = history2_dropout.history['val_loss']"
   ]
  },
  {
   "cell_type": "code",
   "execution_count": 49,
   "metadata": {},
   "outputs": [
    {
     "data": {
      "image/png": "[encoded data removed]",
      "text/plain": [
       "<Figure size 432x288 with 1 Axes>"
      ]
     },
     "metadata": {
      "image/png": {
       "height": 261,
       "width": 385
      },
      "needs_background": "light"
     },
     "output_type": "display_data"
    }
   ],
   "source": [
    "plt.plot(range(1, len(model2_val_loss) + 1), model2_val_loss, 'b+', label='Original network validation loss')\n",
    "plt.plot(range(1, len(model2_dropout_val_loss) + 1), model2_dropout_val_loss, 'bo', label='Dropout network validation loss')\n",
    "plt.xlabel('Epoch')\n",
    "plt.ylabel('Validation loss')\n",
    "plt.legend()\n",
    "plt.show()"
   ]
  },
  {
   "cell_type": "code",
   "execution_count": null,
   "metadata": {},
   "outputs": [],
   "source": []
  }
 ],
 "metadata": {
  "kernelspec": {
   "display_name": "homlconda",
   "language": "python",
   "name": "homlconda"
  },
  "language_info": {
   "codemirror_mode": {
    "name": "ipython",
    "version": 3
   },
   "file_extension": ".py",
   "mimetype": "text/x-python",
   "name": "python",
   "nbconvert_exporter": "python",
   "pygments_lexer": "ipython3",
   "version": "3.7.4"
  }
 },
 "nbformat": 4,
 "nbformat_minor": 4
}
